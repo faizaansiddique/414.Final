{
  "nbformat": 4,
  "nbformat_minor": 0,
  "metadata": {
    "colab": {
      "provenance": []
    },
    "kernelspec": {
      "name": "python3",
      "display_name": "Python 3"
    },
    "language_info": {
      "name": "python"
    }
  },
  "cells": [
    {
      "cell_type": "code",
      "execution_count": null,
      "metadata": {
        "id": "WDMPfzx5owM7"
      },
      "outputs": [],
      "source": [
        "import pandas as pd\n",
        "import matplotlib.pyplot as plt\n",
        "from sklearn.preprocessing import LabelEncoder, StandardScaler\n",
        "from scipy.cluster.hierarchy import dendrogram, linkage"
      ]
    },
    {
      "cell_type": "code",
      "source": [
        "#Load the dataset\n",
        "file_path = '/mnt/data/List of most-followed Instagram accounts 2.csv'\n",
        "df = pd.read_csv(file_path)"
      ],
      "metadata": {
        "id": "E7qyH4RGpLde"
      },
      "execution_count": null,
      "outputs": []
    },
    {
      "cell_type": "code",
      "source": [
        "#Preprocess the data\n",
        "df.rename(columns={\n",
        "    'Followers(millions)[2]': 'Followers',\n",
        "    'Profession/Activity': 'Profession',\n",
        "    'Country/Continent': 'Country'\n",
        "}, inplace=True)\n",
        "df['Followers'] = pd.to_numeric(df['Followers'], errors='coerce')\n",
        "df = df.dropna(subset=['Followers', 'Profession'])\n",
        "\n",
        "df['Primary_Profession'] = df['Profession'].str.split(',| and').str[0].str.strip()\n",
        "profession_map = {\n",
        "    'Footballer': 'Athlete', 'Wrestler': 'Athlete', 'Boxer': 'Athlete',\n",
        "    'Cricketer': 'Athlete', 'Tennis player': 'Athlete', 'Basketball player': 'Athlete',\n",
        "    'Model': 'Model', 'Musician': 'Musician', 'Rapper': 'Musician',\n",
        "    'Singer': 'Musician', 'DJ': 'Musician', 'Actress': 'Acting',\n",
        "    'Actor': 'Acting', 'Television personality': 'Media Personality',\n",
        "    'Social media personality': 'Media Personality',\n",
        "    'Social media platform': 'Platform', 'Businesswoman': 'Entrepreneur',\n",
        "    'Businessman': 'Entrepreneur'\n",
        "}\n",
        "df['Primary_Profession'] = df['Primary_Profession'].replace(profession_map)"
      ],
      "metadata": {
        "id": "JDqeJDQrpNJU"
      },
      "execution_count": null,
      "outputs": []
    },
    {
      "cell_type": "code",
      "source": [
        "#Encode and scale\n",
        "le = LabelEncoder()\n",
        "df['Profession_Code'] = le.fit_transform(df['Primary_Profession'])\n",
        "features = df[['Followers', 'Profession_Code']]\n",
        "scaler = StandardScaler()\n",
        "X_scaled = scaler.fit_transform(features)\n",
        "\n",
        "#Hierarchical clustering\n",
        "linked = linkage(X_scaled, method='ward')\n",
        "\n",
        "#Save dendrogram\n",
        "plt.figure(figsize=(12, 6))\n",
        "dendrogram(linked, labels=df['Owner'].values, leaf_rotation=90, leaf_font_size=8)\n",
        "plt.title('Hierarchical Clustering Dendrogram of Instagram Accounts')\n",
        "plt.xlabel('Account Owner')\n",
        "plt.ylabel('Distance')\n",
        "dendrogram_path = '/mnt/data/hierarchical_dendrogram_instagram.png'\n",
        "plt.tight_layout()\n",
        "plt.savefig(dendrogram_path)\n",
        "plt.close()\n",
        "\n",
        "dendrogram_path"
      ],
      "metadata": {
        "id": "9MwSkO2ApC8c"
      },
      "execution_count": null,
      "outputs": []
    },
    {
      "cell_type": "code",
      "source": [],
      "metadata": {
        "id": "t49BhrVBpC17"
      },
      "execution_count": null,
      "outputs": []
    },
    {
      "cell_type": "code",
      "source": [],
      "metadata": {
        "id": "yPRR7gj8pCsC"
      },
      "execution_count": null,
      "outputs": []
    }
  ]
}